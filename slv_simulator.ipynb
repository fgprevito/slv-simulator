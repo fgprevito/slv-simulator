{
 "cells": [
  {
   "cell_type": "code",
   "execution_count": 1,
   "metadata": {},
   "outputs": [],
   "source": [
    "import numpy"
   ]
  },
  {
   "cell_type": "code",
   "execution_count": 2,
   "metadata": {},
   "outputs": [],
   "source": [
    "# parameters\n",
    "S0 = 100        # initial stock price\n",
    "v0 = 0.04       # initial variance\n",
    "r = 0.03        # risk-free rate\n",
    "rho = -0.6      # correlation coefficient\n",
    "kappa = 2       # mean reversion speed\n",
    "theta = 0.04    # long-term variance\n",
    "sigma = 0.5     # volatility of volatility\n",
    "T = 1           # time to maturity\n",
    "dt = 0.01       # time step\n",
    "N = int(T/dt)   # number of time steps\n",
    "M = 1000        # number of paths"
   ]
  },
  {
   "cell_type": "code",
   "execution_count": 4,
   "metadata": {},
   "outputs": [],
   "source": [
    "# pre-allocate stock price and variance arrays\n",
    "S = numpy.zeros((M, N+1))\n",
    "v = numpy.zeros((M, N+1))\n",
    "S[:, 0] = S0\n",
    "v[:, 0] = v0"
   ]
  },
  {
   "cell_type": "code",
   "execution_count": 8,
   "metadata": {},
   "outputs": [],
   "source": [
    "# local volatility function\n",
    "def local_vol(t, S):\n",
    "    # This is a sample local volatility function; you may need a different one based on your needs\n",
    "    return 0.1 + 0.05 * numpy.sin(S/50)"
   ]
  },
  {
   "cell_type": "code",
   "execution_count": 9,
   "metadata": {},
   "outputs": [],
   "source": [
    "# simulate paths\n",
    "numpy.random.seed(0)\n",
    "for i in range(N):\n",
    "    t = i * dt\n",
    "    z1 = numpy.random.normal(size=M)\n",
    "    z2 = numpy.random.normal(size=M)\n",
    "    z2 = rho * z1 + numpy.sqrt(1 - rho**2) * z2  # correlated Brownian motions\n",
    "    \n",
    "    # heston model for stochastic volatility\n",
    "    v[:, i+1] = numpy.abs(v[:, i] + kappa * (theta - v[:, i]) * dt + sigma * numpy.sqrt(v[:, i] * dt) * z2)\n",
    "    \n",
    "    # local volatility model\n",
    "    lv = local_vol(t, S[:, i])\n",
    "    \n",
    "    # combine local and stochastic volatility\n",
    "    total_vol = numpy.sqrt(lv**2 + v[:, i])\n",
    "    \n",
    "    # stock price\n",
    "    S[:, i+1] = S[:, i] * numpy.exp((r - 0.5 * total_vol**2) * dt + total_vol * numpy.sqrt(dt) * z1)"
   ]
  },
  {
   "cell_type": "code",
   "execution_count": 11,
   "metadata": {},
   "outputs": [
    {
     "name": "stdout",
     "output_type": "stream",
     "text": [
      "Mean final stock price: 103.29630317864498\n"
     ]
    }
   ],
   "source": [
    "print(\"Mean final stock price:\", numpy.mean(S[:, -1]))"
   ]
  },
  {
   "cell_type": "code",
   "execution_count": null,
   "metadata": {},
   "outputs": [],
   "source": []
  }
 ],
 "metadata": {
  "kernelspec": {
   "display_name": "Python 3",
   "language": "python",
   "name": "python3"
  },
  "language_info": {
   "codemirror_mode": {
    "name": "ipython",
    "version": 3
   },
   "file_extension": ".py",
   "mimetype": "text/x-python",
   "name": "python",
   "nbconvert_exporter": "python",
   "pygments_lexer": "ipython3",
   "version": "3.11.2"
  },
  "orig_nbformat": 4
 },
 "nbformat": 4,
 "nbformat_minor": 2
}
